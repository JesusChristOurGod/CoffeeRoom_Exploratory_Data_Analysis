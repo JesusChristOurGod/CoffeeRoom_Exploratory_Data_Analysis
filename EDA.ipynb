{
 "cells": [
  {
   "cell_type": "code",
   "execution_count": 1,
   "metadata": {
    "collapsed": true
   },
   "outputs": [],
   "source": [
    "import pandas as pd\n",
    "import matplotlib.pyplot as plt\n",
    "import numpy as np"
   ]
  },
  {
   "cell_type": "code",
   "execution_count": 5,
   "outputs": [],
   "source": [
    "plt.style.use('coffee.mplstyle')"
   ],
   "metadata": {
    "collapsed": false
   }
  },
  {
   "cell_type": "code",
   "execution_count": null,
   "outputs": [],
   "source": [
    "from matplotlib.colors import LinearSegmentedColormap\n",
    "coffee_colors = [(222/255, 203/255, 183/255),(143/255, 133/255, 125/255),  (92/255, 85/255, 82/255), (67/255, 54/255, 51/255)]\n",
    "coffee_cmap = LinearSegmentedColormap.from_list(\"coffee\", coffee_colors, N=50)"
   ],
   "metadata": {
    "collapsed": false
   }
  },
  {
   "cell_type": "code",
   "execution_count": 157,
   "outputs": [],
   "source": [
    "info = pd.read_csv('info.csv')"
   ],
   "metadata": {
    "collapsed": false
   }
  },
  {
   "cell_type": "code",
   "execution_count": 12,
   "outputs": [
    {
     "data": {
      "text/plain": "            № смены    № за смену     Наличными  Безналичными         Сумма  \\\ncount  46705.000000  46705.000000  46705.000000   46705.00000  46705.000000   \nmean     550.136238     10.472455     56.422615     181.26597    237.688585   \nstd      322.140950      7.988468    161.263735     381.59620    388.800996   \nmin        0.000000      0.000000      0.000000       0.00000      0.000000   \n25%      275.000000      4.000000      0.000000       0.00000    100.000000   \n50%      545.000000      9.000000      0.000000     140.00000    170.000000   \n75%      827.000000     16.000000     30.000000     230.00000    261.000000   \nmax     1119.000000     54.000000   4680.000000   53650.00000  53650.000000   \n\n       Сумма без НДС  Сумма с НДС 0%  НДС 10%  НДС 20%  НДС 10/110  \\\ncount   46705.000000         46705.0  46705.0  46705.0     46705.0   \nmean      237.688585             0.0      0.0      0.0         0.0   \nstd       388.800996             0.0      0.0      0.0         0.0   \nmin         0.000000             0.0      0.0      0.0         0.0   \n25%       100.000000             0.0      0.0      0.0         0.0   \n50%       170.000000             0.0      0.0      0.0         0.0   \n75%       261.000000             0.0      0.0      0.0         0.0   \nmax     53650.000000             0.0      0.0      0.0         0.0   \n\n       НДС 20/120          № ФД           ФПД  Серийный номер ККТ  \\\ncount     46705.0  46705.000000  4.670500e+04        5.000000e+00   \nmean          0.0  12045.069457  2.158495e+09        3.077615e+11   \nstd           0.0   6972.951713  1.237093e+09        4.915944e+08   \nmin           0.0      1.000000  5.063700e+04        3.074025e+11   \n25%           0.0   5839.000000  1.083817e+09        3.074025e+11   \n50%           0.0  12042.000000  2.172349e+09        3.074025e+11   \n75%           0.0  17880.000000  3.233865e+09        3.083000e+11   \nmax           0.0  25471.000000  4.294861e+09        3.083000e+11   \n\n           Номер ФН  Регистрационный номер ККТ  Торговая точка  \ncount  4.670500e+04               4.670500e+04             0.0  \nmean   9.553994e+15               3.188864e+12             NaN  \nstd    3.316141e+14               6.541918e+10             NaN  \nmin    9.283440e+15               3.131487e+12             NaN  \n25%    9.283440e+15               3.131487e+12             NaN  \n50%    9.283440e+15               3.131487e+12             NaN  \n75%    9.960440e+15               3.263451e+12             NaN  \nmax    9.960440e+15               3.263451e+12             NaN  ",
      "text/html": "<div>\n<style scoped>\n    .dataframe tbody tr th:only-of-type {\n        vertical-align: middle;\n    }\n\n    .dataframe tbody tr th {\n        vertical-align: top;\n    }\n\n    .dataframe thead th {\n        text-align: right;\n    }\n</style>\n<table border=\"1\" class=\"dataframe\">\n  <thead>\n    <tr style=\"text-align: right;\">\n      <th></th>\n      <th>№ смены</th>\n      <th>№ за смену</th>\n      <th>Наличными</th>\n      <th>Безналичными</th>\n      <th>Сумма</th>\n      <th>Сумма без НДС</th>\n      <th>Сумма с НДС 0%</th>\n      <th>НДС 10%</th>\n      <th>НДС 20%</th>\n      <th>НДС 10/110</th>\n      <th>НДС 20/120</th>\n      <th>№ ФД</th>\n      <th>ФПД</th>\n      <th>Серийный номер ККТ</th>\n      <th>Номер ФН</th>\n      <th>Регистрационный номер ККТ</th>\n      <th>Торговая точка</th>\n    </tr>\n  </thead>\n  <tbody>\n    <tr>\n      <th>count</th>\n      <td>46705.000000</td>\n      <td>46705.000000</td>\n      <td>46705.000000</td>\n      <td>46705.00000</td>\n      <td>46705.000000</td>\n      <td>46705.000000</td>\n      <td>46705.0</td>\n      <td>46705.0</td>\n      <td>46705.0</td>\n      <td>46705.0</td>\n      <td>46705.0</td>\n      <td>46705.000000</td>\n      <td>4.670500e+04</td>\n      <td>5.000000e+00</td>\n      <td>4.670500e+04</td>\n      <td>4.670500e+04</td>\n      <td>0.0</td>\n    </tr>\n    <tr>\n      <th>mean</th>\n      <td>550.136238</td>\n      <td>10.472455</td>\n      <td>56.422615</td>\n      <td>181.26597</td>\n      <td>237.688585</td>\n      <td>237.688585</td>\n      <td>0.0</td>\n      <td>0.0</td>\n      <td>0.0</td>\n      <td>0.0</td>\n      <td>0.0</td>\n      <td>12045.069457</td>\n      <td>2.158495e+09</td>\n      <td>3.077615e+11</td>\n      <td>9.553994e+15</td>\n      <td>3.188864e+12</td>\n      <td>NaN</td>\n    </tr>\n    <tr>\n      <th>std</th>\n      <td>322.140950</td>\n      <td>7.988468</td>\n      <td>161.263735</td>\n      <td>381.59620</td>\n      <td>388.800996</td>\n      <td>388.800996</td>\n      <td>0.0</td>\n      <td>0.0</td>\n      <td>0.0</td>\n      <td>0.0</td>\n      <td>0.0</td>\n      <td>6972.951713</td>\n      <td>1.237093e+09</td>\n      <td>4.915944e+08</td>\n      <td>3.316141e+14</td>\n      <td>6.541918e+10</td>\n      <td>NaN</td>\n    </tr>\n    <tr>\n      <th>min</th>\n      <td>0.000000</td>\n      <td>0.000000</td>\n      <td>0.000000</td>\n      <td>0.00000</td>\n      <td>0.000000</td>\n      <td>0.000000</td>\n      <td>0.0</td>\n      <td>0.0</td>\n      <td>0.0</td>\n      <td>0.0</td>\n      <td>0.0</td>\n      <td>1.000000</td>\n      <td>5.063700e+04</td>\n      <td>3.074025e+11</td>\n      <td>9.283440e+15</td>\n      <td>3.131487e+12</td>\n      <td>NaN</td>\n    </tr>\n    <tr>\n      <th>25%</th>\n      <td>275.000000</td>\n      <td>4.000000</td>\n      <td>0.000000</td>\n      <td>0.00000</td>\n      <td>100.000000</td>\n      <td>100.000000</td>\n      <td>0.0</td>\n      <td>0.0</td>\n      <td>0.0</td>\n      <td>0.0</td>\n      <td>0.0</td>\n      <td>5839.000000</td>\n      <td>1.083817e+09</td>\n      <td>3.074025e+11</td>\n      <td>9.283440e+15</td>\n      <td>3.131487e+12</td>\n      <td>NaN</td>\n    </tr>\n    <tr>\n      <th>50%</th>\n      <td>545.000000</td>\n      <td>9.000000</td>\n      <td>0.000000</td>\n      <td>140.00000</td>\n      <td>170.000000</td>\n      <td>170.000000</td>\n      <td>0.0</td>\n      <td>0.0</td>\n      <td>0.0</td>\n      <td>0.0</td>\n      <td>0.0</td>\n      <td>12042.000000</td>\n      <td>2.172349e+09</td>\n      <td>3.074025e+11</td>\n      <td>9.283440e+15</td>\n      <td>3.131487e+12</td>\n      <td>NaN</td>\n    </tr>\n    <tr>\n      <th>75%</th>\n      <td>827.000000</td>\n      <td>16.000000</td>\n      <td>30.000000</td>\n      <td>230.00000</td>\n      <td>261.000000</td>\n      <td>261.000000</td>\n      <td>0.0</td>\n      <td>0.0</td>\n      <td>0.0</td>\n      <td>0.0</td>\n      <td>0.0</td>\n      <td>17880.000000</td>\n      <td>3.233865e+09</td>\n      <td>3.083000e+11</td>\n      <td>9.960440e+15</td>\n      <td>3.263451e+12</td>\n      <td>NaN</td>\n    </tr>\n    <tr>\n      <th>max</th>\n      <td>1119.000000</td>\n      <td>54.000000</td>\n      <td>4680.000000</td>\n      <td>53650.00000</td>\n      <td>53650.000000</td>\n      <td>53650.000000</td>\n      <td>0.0</td>\n      <td>0.0</td>\n      <td>0.0</td>\n      <td>0.0</td>\n      <td>0.0</td>\n      <td>25471.000000</td>\n      <td>4.294861e+09</td>\n      <td>3.083000e+11</td>\n      <td>9.960440e+15</td>\n      <td>3.263451e+12</td>\n      <td>NaN</td>\n    </tr>\n  </tbody>\n</table>\n</div>"
     },
     "execution_count": 12,
     "metadata": {},
     "output_type": "execute_result"
    }
   ],
   "source": [
    "info.describe()"
   ],
   "metadata": {
    "collapsed": false
   }
  },
  {
   "cell_type": "code",
   "execution_count": 13,
   "outputs": [
    {
     "data": {
      "text/plain": "Index(['Дата и время', 'Тип документа', '№ смены', '№ за смену',\n       'Тип операции', 'Система налогообложения', 'Наличными', 'Безналичными',\n       'Сумма', 'Сумма без НДС', 'Сумма с НДС 0%', 'НДС 10%', 'НДС 20%',\n       'НДС 10/110', 'НДС 20/120', 'Кассир', '№ ФД', 'ФПД',\n       'Серийный номер ККТ', 'Номер ФН', 'Регистрационный номер ККТ',\n       'Торговая точка', 'Адрес'],\n      dtype='object')"
     },
     "execution_count": 13,
     "metadata": {},
     "output_type": "execute_result"
    }
   ],
   "source": [
    "info.columns"
   ],
   "metadata": {
    "collapsed": false
   }
  },
  {
   "cell_type": "code",
   "execution_count": 166,
   "outputs": [
    {
     "data": {
      "text/plain": "array(['SI', 'SA', 'PK', 'ADMIN', 'CASHIER'], dtype=object)"
     },
     "execution_count": 166,
     "metadata": {},
     "output_type": "execute_result"
    }
   ],
   "source": [
    "info['cashier'].unique()"
   ],
   "metadata": {
    "collapsed": false
   }
  },
  {
   "cell_type": "code",
   "execution_count": 103,
   "outputs": [
    {
     "data": {
      "text/plain": "False"
     },
     "execution_count": 103,
     "metadata": {},
     "output_type": "execute_result"
    }
   ],
   "source": [
    "'Cопочкина Анастасия'=='Cопочкина Aнастасия'"
   ],
   "metadata": {
    "collapsed": false
   }
  },
  {
   "cell_type": "code",
   "execution_count": 59,
   "outputs": [
    {
     "data": {
      "text/plain": "67"
     },
     "execution_count": 59,
     "metadata": {},
     "output_type": "execute_result"
    }
   ],
   "source": [
    "ord('C')"
   ],
   "metadata": {
    "collapsed": false
   }
  },
  {
   "cell_type": "code",
   "execution_count": 64,
   "outputs": [
    {
     "name": "stdout",
     "output_type": "stream",
     "text": [
      "1057 1086 1087 1086 1095 1082 1080 1085 1072 32 1040 1085 1072 1089 1090 1072 1089 1080 1103 \n",
      "1057 1086 1087 1086 1095 1082 1080 1085 1072 32 1040 1085 1072 1089 1090 1072 1089 1080 1103 \n"
     ]
    }
   ],
   "source": [
    "a = 'Сопочкина Анастасия'\n",
    "b='Сопочкина Анастасия'\n",
    "s=''\n",
    "d=''\n",
    "for i in range (len('Сопочкина Анастасия')):\n",
    "    s+=str(ord(a[i]))+\" \"\n",
    "    d+=str(ord(b[i]))+\" \"\n",
    "print(s)\n",
    "print(d)"
   ],
   "metadata": {
    "collapsed": false
   }
  },
  {
   "cell_type": "code",
   "execution_count": 62,
   "outputs": [
    {
     "data": {
      "text/plain": "'С'"
     },
     "execution_count": 62,
     "metadata": {},
     "output_type": "execute_result"
    }
   ],
   "source": [
    "chr(1057)"
   ],
   "metadata": {
    "collapsed": false
   }
  },
  {
   "cell_type": "code",
   "execution_count": 158,
   "outputs": [],
   "source": [
    "info = info.drop(['Система налогообложения', 'Сумма без НДС', 'Сумма с НДС 0%', 'НДС 10%', 'НДС 20%', 'НДС 20/120', 'НДС 10/110', '№ ФД', 'ФПД', 'Серийный номер ККТ', 'Номер ФН', 'Регистрационный номер ККТ', 'Торговая точка'], axis=1)"
   ],
   "metadata": {
    "collapsed": false
   }
  },
  {
   "cell_type": "code",
   "execution_count": 159,
   "outputs": [],
   "source": [
    "info = info.rename(columns={'Дата и время': 'date', 'Тип документа': 'document_type', '№ смены': 'shift_number', '№ за смену': 'number_in_shift', 'Наличными': 'cash', 'Безналичными': 'card', 'Сумма': 'total', 'Кассир': 'cashier', 'Адрес': 'address', 'Тип операции': 'operation_type'})"
   ],
   "metadata": {
    "collapsed": false
   }
  },
  {
   "cell_type": "code",
   "execution_count": 160,
   "outputs": [],
   "source": [
    "info.date = pd.to_datetime(info.date, format='%Y-%m-%d %H:%M:%S')"
   ],
   "metadata": {
    "collapsed": false
   }
  },
  {
   "cell_type": "code",
   "execution_count": 161,
   "outputs": [],
   "source": [
    "info = info[info.document_type=='кассовый чек']"
   ],
   "metadata": {
    "collapsed": false
   }
  },
  {
   "cell_type": "code",
   "execution_count": 162,
   "outputs": [],
   "source": [
    "info = info.drop(columns=['document_type'], axis=1)"
   ],
   "metadata": {
    "collapsed": false
   }
  },
  {
   "cell_type": "code",
   "execution_count": 81,
   "outputs": [
    {
     "ename": "NameError",
     "evalue": "name 'info' is not defined",
     "output_type": "error",
     "traceback": [
      "\u001B[0;31m---------------------------------------------------------------------------\u001B[0m",
      "\u001B[0;31mNameError\u001B[0m                                 Traceback (most recent call last)",
      "Cell \u001B[0;32mIn[81], line 1\u001B[0m\n\u001B[0;32m----> 1\u001B[0m \u001B[43minfo\u001B[49m\n",
      "\u001B[0;31mNameError\u001B[0m: name 'info' is not defined"
     ]
    }
   ],
   "source": [
    "info"
   ],
   "metadata": {
    "collapsed": false
   }
  },
  {
   "cell_type": "code",
   "execution_count": 164,
   "outputs": [],
   "source": [
    "def sopochkina(s):\n",
    "    if s=='Сопочкина Aнастасия':\n",
    "        return \"SA\"\n",
    "    if s=='Сопочкина Анастасия':\n",
    "        return 'SA'\n",
    "    if s=='Сеничева Ирина':\n",
    "        return 'SI'\n",
    "    if s=='Прокапович  Катя':\n",
    "        return 'PK'\n",
    "    if s=='Администратор':\n",
    "        return 'ADMIN'\n",
    "    if s=='Кассир':\n",
    "        return 'CASHIER'"
   ],
   "metadata": {
    "collapsed": false
   }
  },
  {
   "cell_type": "code",
   "execution_count": 165,
   "outputs": [],
   "source": [
    "info.cashier = info.cashier.apply(sopochkina)"
   ],
   "metadata": {
    "collapsed": false
   }
  },
  {
   "cell_type": "code",
   "execution_count": 109,
   "outputs": [
    {
     "data": {
      "text/plain": "'i'"
     },
     "execution_count": 109,
     "metadata": {},
     "output_type": "execute_result"
    }
   ],
   "source": [
    "info"
   ],
   "metadata": {
    "collapsed": false
   }
  },
  {
   "cell_type": "code",
   "execution_count": 77,
   "outputs": [
    {
     "name": "stdout",
     "output_type": "stream",
     "text": [
      "2650.0 150.0\n",
      "2809.0 309.0\n",
      "2977.54 477.53999999999996\n",
      "3156.1924 656.1923999999999\n",
      "3345.563944 845.563944\n",
      "3546.29778064 1046.29778064\n",
      "3759.0756474784 1259.0756474783998\n"
     ]
    }
   ],
   "source": [],
   "metadata": {
    "collapsed": false
   }
  },
  {
   "cell_type": "code",
   "execution_count": 78,
   "outputs": [
    {
     "data": {
      "text/plain": "28.0"
     },
     "execution_count": 78,
     "metadata": {},
     "output_type": "execute_result"
    }
   ],
   "source": [],
   "metadata": {
    "collapsed": false
   }
  },
  {
   "cell_type": "code",
   "execution_count": 79,
   "outputs": [
    {
     "data": {
      "text/plain": "2000.0"
     },
     "execution_count": 79,
     "metadata": {},
     "output_type": "execute_result"
    }
   ],
   "source": [],
   "metadata": {
    "collapsed": false
   }
  },
  {
   "cell_type": "code",
   "execution_count": 80,
   "outputs": [
    {
     "data": {
      "text/plain": "8230000000.0"
     },
     "execution_count": 80,
     "metadata": {},
     "output_type": "execute_result"
    }
   ],
   "source": [],
   "metadata": {
    "collapsed": false
   }
  },
  {
   "cell_type": "code",
   "execution_count": null,
   "outputs": [],
   "source": [],
   "metadata": {
    "collapsed": false
   }
  }
 ],
 "metadata": {
  "kernelspec": {
   "display_name": "Python 3",
   "language": "python",
   "name": "python3"
  },
  "language_info": {
   "codemirror_mode": {
    "name": "ipython",
    "version": 2
   },
   "file_extension": ".py",
   "mimetype": "text/x-python",
   "name": "python",
   "nbconvert_exporter": "python",
   "pygments_lexer": "ipython2",
   "version": "2.7.6"
  }
 },
 "nbformat": 4,
 "nbformat_minor": 0
}
